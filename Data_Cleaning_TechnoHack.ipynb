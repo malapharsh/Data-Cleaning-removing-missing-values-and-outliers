{
 "cells": [
  {
   "cell_type": "markdown",
   "id": "c7052e47-8584-4d1f-a927-c76bf594a5d5",
   "metadata": {},
   "source": [
    "<h1>Perform Data Cleaning </h1>"
   ]
  },
  {
   "cell_type": "markdown",
   "id": "5a10235d-a4fe-4869-8da0-3ff4c973555e",
   "metadata": {},
   "source": [
    "<em><strong>Task : </strong>Clean a dataset by removing missing values and outliers</em>"
   ]
  },
  {
   "cell_type": "markdown",
   "id": "66ebc067-154d-490e-8dc8-11f10d148ba5",
   "metadata": {},
   "source": [
    "<h1>Import Library</h1>"
   ]
  },
  {
   "cell_type": "code",
   "execution_count": 1,
   "id": "e1619ece-46d5-4c4f-8259-e1442eac81dc",
   "metadata": {},
   "outputs": [],
   "source": [
    "import pandas as pd\n",
    "import seaborn as sn\n",
    "import matplotlib.pyplot as plt"
   ]
  },
  {
   "cell_type": "markdown",
   "id": "c68a6313-3030-4e76-96a5-d1a0564f7b2b",
   "metadata": {},
   "source": [
    "<h1>Import data</h1>"
   ]
  },
  {
   "cell_type": "code",
   "execution_count": 2,
   "id": "1f0b4c53-53c6-45b8-b2d6-a57dea4b1f12",
   "metadata": {},
   "outputs": [],
   "source": [
    "dataset = pd.read_csv('https://github.com/YBIFoundation/Dataset/raw/main/Loan%20Eligibility%20Prediction.csv')"
   ]
  },
  {
   "cell_type": "code",
   "execution_count": 3,
   "id": "f6aadf66-54ef-466a-9e5a-9c5d5356a758",
   "metadata": {},
   "outputs": [
    {
     "data": {
      "text/html": [
       "<div>\n",
       "<style scoped>\n",
       "    .dataframe tbody tr th:only-of-type {\n",
       "        vertical-align: middle;\n",
       "    }\n",
       "\n",
       "    .dataframe tbody tr th {\n",
       "        vertical-align: top;\n",
       "    }\n",
       "\n",
       "    .dataframe thead th {\n",
       "        text-align: right;\n",
       "    }\n",
       "</style>\n",
       "<table border=\"1\" class=\"dataframe\">\n",
       "  <thead>\n",
       "    <tr style=\"text-align: right;\">\n",
       "      <th></th>\n",
       "      <th>Customer_ID</th>\n",
       "      <th>Gender</th>\n",
       "      <th>Married</th>\n",
       "      <th>Dependents</th>\n",
       "      <th>Education</th>\n",
       "      <th>Self_Employed</th>\n",
       "      <th>Applicant_Income</th>\n",
       "      <th>Coapplicant_Income</th>\n",
       "      <th>Loan_Amount</th>\n",
       "      <th>Loan_Amount_Term</th>\n",
       "      <th>Credit_History</th>\n",
       "      <th>Property_Area</th>\n",
       "      <th>Loan_Status</th>\n",
       "    </tr>\n",
       "  </thead>\n",
       "  <tbody>\n",
       "    <tr>\n",
       "      <th>0</th>\n",
       "      <td>569</td>\n",
       "      <td>Female</td>\n",
       "      <td>No</td>\n",
       "      <td>0</td>\n",
       "      <td>Graduate</td>\n",
       "      <td>No</td>\n",
       "      <td>2378</td>\n",
       "      <td>0.0</td>\n",
       "      <td>9</td>\n",
       "      <td>360</td>\n",
       "      <td>1</td>\n",
       "      <td>Urban</td>\n",
       "      <td>N</td>\n",
       "    </tr>\n",
       "    <tr>\n",
       "      <th>1</th>\n",
       "      <td>15</td>\n",
       "      <td>Male</td>\n",
       "      <td>Yes</td>\n",
       "      <td>2</td>\n",
       "      <td>Graduate</td>\n",
       "      <td>No</td>\n",
       "      <td>1299</td>\n",
       "      <td>1086.0</td>\n",
       "      <td>17</td>\n",
       "      <td>120</td>\n",
       "      <td>1</td>\n",
       "      <td>Urban</td>\n",
       "      <td>Y</td>\n",
       "    </tr>\n",
       "    <tr>\n",
       "      <th>2</th>\n",
       "      <td>95</td>\n",
       "      <td>Male</td>\n",
       "      <td>No</td>\n",
       "      <td>0</td>\n",
       "      <td>Not Graduate</td>\n",
       "      <td>No</td>\n",
       "      <td>3620</td>\n",
       "      <td>0.0</td>\n",
       "      <td>25</td>\n",
       "      <td>120</td>\n",
       "      <td>1</td>\n",
       "      <td>Semiurban</td>\n",
       "      <td>Y</td>\n",
       "    </tr>\n",
       "  </tbody>\n",
       "</table>\n",
       "</div>"
      ],
      "text/plain": [
       "   Customer_ID  Gender Married  Dependents     Education Self_Employed  \\\n",
       "0          569  Female      No           0      Graduate            No   \n",
       "1           15    Male     Yes           2      Graduate            No   \n",
       "2           95    Male      No           0  Not Graduate            No   \n",
       "\n",
       "   Applicant_Income  Coapplicant_Income  Loan_Amount  Loan_Amount_Term  \\\n",
       "0              2378                 0.0            9               360   \n",
       "1              1299              1086.0           17               120   \n",
       "2              3620                 0.0           25               120   \n",
       "\n",
       "   Credit_History Property_Area Loan_Status  \n",
       "0               1         Urban           N  \n",
       "1               1         Urban           Y  \n",
       "2               1     Semiurban           Y  "
      ]
     },
     "execution_count": 3,
     "metadata": {},
     "output_type": "execute_result"
    }
   ],
   "source": [
    "dataset.head(3)"
   ]
  },
  {
   "cell_type": "code",
   "execution_count": 4,
   "id": "06c03cf4-ac1c-429b-9227-65697d112c28",
   "metadata": {},
   "outputs": [
    {
     "name": "stdout",
     "output_type": "stream",
     "text": [
      "<class 'pandas.core.frame.DataFrame'>\n",
      "RangeIndex: 614 entries, 0 to 613\n",
      "Data columns (total 13 columns):\n",
      " #   Column              Non-Null Count  Dtype  \n",
      "---  ------              --------------  -----  \n",
      " 0   Customer_ID         614 non-null    int64  \n",
      " 1   Gender              614 non-null    object \n",
      " 2   Married             614 non-null    object \n",
      " 3   Dependents          614 non-null    int64  \n",
      " 4   Education           614 non-null    object \n",
      " 5   Self_Employed       614 non-null    object \n",
      " 6   Applicant_Income    614 non-null    int64  \n",
      " 7   Coapplicant_Income  614 non-null    float64\n",
      " 8   Loan_Amount         614 non-null    int64  \n",
      " 9   Loan_Amount_Term    614 non-null    int64  \n",
      " 10  Credit_History      614 non-null    int64  \n",
      " 11  Property_Area       614 non-null    object \n",
      " 12  Loan_Status         614 non-null    object \n",
      "dtypes: float64(1), int64(6), object(6)\n",
      "memory usage: 62.5+ KB\n"
     ]
    }
   ],
   "source": [
    "dataset.info()"
   ]
  },
  {
   "cell_type": "markdown",
   "id": "139470d4-1e96-4a44-af6c-332864764271",
   "metadata": {},
   "source": [
    "<h1>Cleaning Data</h1>"
   ]
  },
  {
   "cell_type": "markdown",
   "id": "57a2cac4-d661-49e5-bd50-f2eb8188392e",
   "metadata": {},
   "source": [
    "<h3>Removing missing values</h3>"
   ]
  },
  {
   "cell_type": "code",
   "execution_count": 5,
   "id": "5e70e4b0-eb18-4108-b4e2-079bb213628a",
   "metadata": {},
   "outputs": [],
   "source": [
    "#first find out no. of missing values"
   ]
  },
  {
   "cell_type": "code",
   "execution_count": 6,
   "id": "5e891cc0-1a0d-43f3-a078-5a0531f816a8",
   "metadata": {},
   "outputs": [
    {
     "data": {
      "text/plain": [
       "Customer_ID           0\n",
       "Gender                0\n",
       "Married               0\n",
       "Dependents            0\n",
       "Education             0\n",
       "Self_Employed         0\n",
       "Applicant_Income      0\n",
       "Coapplicant_Income    0\n",
       "Loan_Amount           0\n",
       "Loan_Amount_Term      0\n",
       "Credit_History        0\n",
       "Property_Area         0\n",
       "Loan_Status           0\n",
       "dtype: int64"
      ]
     },
     "execution_count": 6,
     "metadata": {},
     "output_type": "execute_result"
    }
   ],
   "source": [
    "dataset.isnull().sum()"
   ]
  },
  {
   "cell_type": "code",
   "execution_count": 7,
   "id": "b09f5c7c-70c8-47e8-bf2e-12f8300c6ab5",
   "metadata": {},
   "outputs": [],
   "source": [
    "# No missing values exist , so no need to remove"
   ]
  },
  {
   "cell_type": "markdown",
   "id": "1438b030-d2f2-49b9-938b-8a0c742bd268",
   "metadata": {},
   "source": [
    "<em>If null/missing values existed, then we could have removed rows and columns containing null values </em>"
   ]
  },
  {
   "cell_type": "code",
   "execution_count": 8,
   "id": "c7bff463-5939-4de8-bf4d-a9d498a97bc8",
   "metadata": {},
   "outputs": [],
   "source": [
    "# remove columns having missing values\n",
    "#dataset.drop(columns = ['Columns with null values'],inplace=True)\n",
    "#remove rows having missing values \n",
    "#dataset[.dropna(inplace=True)"
   ]
  },
  {
   "cell_type": "markdown",
   "id": "ace54d8b-eafd-4ec3-b6c5-16e1118e6c66",
   "metadata": {},
   "source": [
    "<h3>Removing Outliers</h3>"
   ]
  },
  {
   "cell_type": "code",
   "execution_count": 9,
   "id": "5224fde5-098c-4382-9327-6eebec8f942f",
   "metadata": {},
   "outputs": [],
   "source": [
    "# first detect outlier"
   ]
  },
  {
   "cell_type": "code",
   "execution_count": 10,
   "id": "67079a98-30ef-4c89-ac8e-d67eac2f9369",
   "metadata": {},
   "outputs": [
    {
     "data": {
      "text/html": [
       "<div>\n",
       "<style scoped>\n",
       "    .dataframe tbody tr th:only-of-type {\n",
       "        vertical-align: middle;\n",
       "    }\n",
       "\n",
       "    .dataframe tbody tr th {\n",
       "        vertical-align: top;\n",
       "    }\n",
       "\n",
       "    .dataframe thead th {\n",
       "        text-align: right;\n",
       "    }\n",
       "</style>\n",
       "<table border=\"1\" class=\"dataframe\">\n",
       "  <thead>\n",
       "    <tr style=\"text-align: right;\">\n",
       "      <th></th>\n",
       "      <th>Customer_ID</th>\n",
       "      <th>Dependents</th>\n",
       "      <th>Applicant_Income</th>\n",
       "      <th>Coapplicant_Income</th>\n",
       "      <th>Loan_Amount</th>\n",
       "      <th>Loan_Amount_Term</th>\n",
       "      <th>Credit_History</th>\n",
       "    </tr>\n",
       "  </thead>\n",
       "  <tbody>\n",
       "    <tr>\n",
       "      <th>count</th>\n",
       "      <td>614.000000</td>\n",
       "      <td>614.000000</td>\n",
       "      <td>614.000000</td>\n",
       "      <td>614.000000</td>\n",
       "      <td>614.000000</td>\n",
       "      <td>614.000000</td>\n",
       "      <td>614.000000</td>\n",
       "    </tr>\n",
       "    <tr>\n",
       "      <th>mean</th>\n",
       "      <td>307.500000</td>\n",
       "      <td>0.856678</td>\n",
       "      <td>5403.459283</td>\n",
       "      <td>1621.245798</td>\n",
       "      <td>142.022801</td>\n",
       "      <td>338.892508</td>\n",
       "      <td>0.850163</td>\n",
       "    </tr>\n",
       "    <tr>\n",
       "      <th>std</th>\n",
       "      <td>177.390811</td>\n",
       "      <td>1.216651</td>\n",
       "      <td>6109.041673</td>\n",
       "      <td>2926.248369</td>\n",
       "      <td>87.083089</td>\n",
       "      <td>69.716355</td>\n",
       "      <td>0.357203</td>\n",
       "    </tr>\n",
       "    <tr>\n",
       "      <th>min</th>\n",
       "      <td>1.000000</td>\n",
       "      <td>0.000000</td>\n",
       "      <td>150.000000</td>\n",
       "      <td>0.000000</td>\n",
       "      <td>9.000000</td>\n",
       "      <td>12.000000</td>\n",
       "      <td>0.000000</td>\n",
       "    </tr>\n",
       "    <tr>\n",
       "      <th>25%</th>\n",
       "      <td>154.250000</td>\n",
       "      <td>0.000000</td>\n",
       "      <td>2877.500000</td>\n",
       "      <td>0.000000</td>\n",
       "      <td>98.000000</td>\n",
       "      <td>360.000000</td>\n",
       "      <td>1.000000</td>\n",
       "    </tr>\n",
       "    <tr>\n",
       "      <th>50%</th>\n",
       "      <td>307.500000</td>\n",
       "      <td>0.000000</td>\n",
       "      <td>3812.500000</td>\n",
       "      <td>1188.500000</td>\n",
       "      <td>125.000000</td>\n",
       "      <td>360.000000</td>\n",
       "      <td>1.000000</td>\n",
       "    </tr>\n",
       "    <tr>\n",
       "      <th>75%</th>\n",
       "      <td>460.750000</td>\n",
       "      <td>2.000000</td>\n",
       "      <td>5795.000000</td>\n",
       "      <td>2297.250000</td>\n",
       "      <td>164.750000</td>\n",
       "      <td>360.000000</td>\n",
       "      <td>1.000000</td>\n",
       "    </tr>\n",
       "    <tr>\n",
       "      <th>max</th>\n",
       "      <td>614.000000</td>\n",
       "      <td>4.000000</td>\n",
       "      <td>81000.000000</td>\n",
       "      <td>41667.000000</td>\n",
       "      <td>700.000000</td>\n",
       "      <td>480.000000</td>\n",
       "      <td>1.000000</td>\n",
       "    </tr>\n",
       "  </tbody>\n",
       "</table>\n",
       "</div>"
      ],
      "text/plain": [
       "       Customer_ID  Dependents  Applicant_Income  Coapplicant_Income  \\\n",
       "count   614.000000  614.000000        614.000000          614.000000   \n",
       "mean    307.500000    0.856678       5403.459283         1621.245798   \n",
       "std     177.390811    1.216651       6109.041673         2926.248369   \n",
       "min       1.000000    0.000000        150.000000            0.000000   \n",
       "25%     154.250000    0.000000       2877.500000            0.000000   \n",
       "50%     307.500000    0.000000       3812.500000         1188.500000   \n",
       "75%     460.750000    2.000000       5795.000000         2297.250000   \n",
       "max     614.000000    4.000000      81000.000000        41667.000000   \n",
       "\n",
       "       Loan_Amount  Loan_Amount_Term  Credit_History  \n",
       "count   614.000000        614.000000      614.000000  \n",
       "mean    142.022801        338.892508        0.850163  \n",
       "std      87.083089         69.716355        0.357203  \n",
       "min       9.000000         12.000000        0.000000  \n",
       "25%      98.000000        360.000000        1.000000  \n",
       "50%     125.000000        360.000000        1.000000  \n",
       "75%     164.750000        360.000000        1.000000  \n",
       "max     700.000000        480.000000        1.000000  "
      ]
     },
     "execution_count": 10,
     "metadata": {},
     "output_type": "execute_result"
    }
   ],
   "source": [
    "dataset.describe()"
   ]
  },
  {
   "cell_type": "markdown",
   "id": "f4b6063c-614d-4d42-879f-461e147060e7",
   "metadata": {},
   "source": [
    "<em>There is possibility of column <strong>\"Coapplicant_Income\"</strong> having outliers, as diffrence between mi and max value is huge where mean is so small</em>"
   ]
  },
  {
   "cell_type": "code",
   "execution_count": 11,
   "id": "c12058db-de97-44f2-bbc4-483d6e0e1990",
   "metadata": {},
   "outputs": [
    {
     "data": {
      "image/png": "[encoded data removed]",
      "text/plain": [
       "<Figure size 640x480 with 1 Axes>"
      ]
     },
     "metadata": {},
     "output_type": "display_data"
    }
   ],
   "source": [
    "#We can detect using boxplot\n",
    "sn.boxplot(x= 'Coapplicant_Income', data = dataset)\n",
    "plt.show()"
   ]
  },
  {
   "cell_type": "code",
   "execution_count": 12,
   "id": "626ac1fb-2fae-470d-8e51-f9827f2a8ec4",
   "metadata": {},
   "outputs": [],
   "source": [
    "# Thus, using boxplot we can see the outliers "
   ]
  },
  {
   "cell_type": "code",
   "execution_count": 13,
   "id": "da32cd13-b9a9-49f5-8a98-e5a873f4d120",
   "metadata": {},
   "outputs": [],
   "source": [
    "# Now , we are going to remove these outliers using IQR method"
   ]
  },
  {
   "cell_type": "markdown",
   "id": "e90beab4-f83e-47b8-9dfb-c2019884c82c",
   "metadata": {},
   "source": [
    "<h2>Using IQR method to remove outliers</h2>"
   ]
  },
  {
   "cell_type": "code",
   "execution_count": 14,
   "id": "a4caa77e-e995-44f7-8922-2794aa9e2dd0",
   "metadata": {},
   "outputs": [],
   "source": [
    "Q1 = dataset['Coapplicant_Income'].quantile(0.25)\n",
    "Q3 = dataset['Coapplicant_Income'].quantile(0.75)"
   ]
  },
  {
   "cell_type": "code",
   "execution_count": 15,
   "id": "f2793eb7-802c-430a-8558-076908eaa500",
   "metadata": {},
   "outputs": [
    {
     "data": {
      "text/plain": [
       "(0.0, 2297.25)"
      ]
     },
     "execution_count": 15,
     "metadata": {},
     "output_type": "execute_result"
    }
   ],
   "source": [
    "Q1, Q3"
   ]
  },
  {
   "cell_type": "code",
   "execution_count": 16,
   "id": "359d5305-f081-4993-897a-80b6c362406a",
   "metadata": {},
   "outputs": [
    {
     "data": {
      "text/plain": [
       "2297.25"
      ]
     },
     "execution_count": 16,
     "metadata": {},
     "output_type": "execute_result"
    }
   ],
   "source": [
    "IQR = Q3 - Q1\n",
    "IQR"
   ]
  },
  {
   "cell_type": "code",
   "execution_count": 17,
   "id": "73a05a47-2087-4b78-b8d5-96402376af6c",
   "metadata": {},
   "outputs": [
    {
     "data": {
      "text/plain": [
       "(-3445.875, 5743.125)"
      ]
     },
     "execution_count": 17,
     "metadata": {},
     "output_type": "execute_result"
    }
   ],
   "source": [
    "# finding minimum and maximum range\n",
    "min_range = Q1 - 1.5*IQR\n",
    "max_range = Q3 + 1.5*IQR\n",
    "min_range, max_range"
   ]
  },
  {
   "cell_type": "code",
   "execution_count": 18,
   "id": "2e2b679f-8121-4125-83b6-d7a1913f148f",
   "metadata": {},
   "outputs": [],
   "source": [
    "new_dataset = dataset[dataset['Coapplicant_Income']<max_range]"
   ]
  },
  {
   "cell_type": "code",
   "execution_count": 19,
   "id": "b8517f94-7166-49eb-a429-937cc73cdefc",
   "metadata": {},
   "outputs": [
    {
     "data": {
      "image/png": "[encoded data removed]",
      "text/plain": [
       "<Figure size 640x480 with 1 Axes>"
      ]
     },
     "metadata": {},
     "output_type": "display_data"
    }
   ],
   "source": [
    "sn.boxplot(x = 'Coapplicant_Income', data = new_dataset)\n",
    "plt.show()"
   ]
  },
  {
   "cell_type": "code",
   "execution_count": 21,
   "id": "fc952d33-8ca4-4c8e-b7ab-e9f29767f98e",
   "metadata": {},
   "outputs": [],
   "source": [
    "# We can see that some outliers are present but removing all the outlier causes removal of data , which can decrese accuracy of model in future "
   ]
  },
  {
   "cell_type": "code",
   "execution_count": null,
   "id": "6733efaa-9258-4806-806b-30c60227d1c2",
   "metadata": {},
   "outputs": [],
   "source": []
  }
 ],
 "metadata": {
  "kernelspec": {
   "display_name": "Python 3 (ipykernel)",
   "language": "python",
   "name": "python3"
  },
  "language_info": {
   "codemirror_mode": {
    "name": "ipython",
    "version": 3
   },
   "file_extension": ".py",
   "mimetype": "text/x-python",
   "name": "python",
   "nbconvert_exporter": "python",
   "pygments_lexer": "ipython3",
   "version": "3.12.2"
  },
  "widgets": {
   "application/vnd.jupyter.widget-state+json": {
    "state": {},
    "version_major": 2,
    "version_minor": 0
   }
  }
 },
 "nbformat": 4,
 "nbformat_minor": 5
}
